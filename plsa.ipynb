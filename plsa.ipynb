{
 "cells": [
  {
   "cell_type": "code",
   "execution_count": 2,
   "metadata": {
    "collapsed": true,
    "pycharm": {
     "is_executing": false
    }
   },
   "outputs": [
    {
     "name": "stdout",
     "text": [
      "Vocabulary size:25132\n",
      "Number of documents:20\n"
     ],
     "output_type": "stream"
    }
   ],
   "source": [
    "import os\n",
    "import glob\n",
    "import sys\n",
    "from operator import itemgetter  # for sort\n",
    "import _pickle as cPickle\n",
    "\n",
    "import pLSA\n",
    "import main\n",
    "\n",
    "stopwordsfile = open(\"stopwords.txt\", \"r\")\n",
    "for word in stopwordsfile:  # a stop word in each line\n",
    "    word = word.replace(\"\\n\", '')\n",
    "    word = word.replace(\"\\r\\n\", '')\n",
    "    main.STOP_WORDS_SET.add(word)\n",
    "\n",
    "corpus = pLSA.Corpus()  # instantiate corpus\n",
    "# iterate over the files in the directory.\n",
    "document_paths = ['C:/Users/sunny/Downloads/books/bio']\n",
    "# document_paths = ['./test/']\n",
    "for document_path in document_paths:\n",
    "    for document_file in glob.glob(os.path.join(document_path, '*.txt')):\n",
    "        document = pLSA.Document(document_file)  # instantiate document\n",
    "        document.split(main.STOP_WORDS_SET)  # tokenize\n",
    "        corpus.add_document(document)  # push onto corpus documents list\n",
    "\n",
    "corpus.build_vocabulary()\n",
    "print( \"Vocabulary size:\" + str(len(corpus.vocabulary)))\n",
    "print (\"Number of documents:\" + str(len(corpus.documents)))"
   ]
  },
  {
   "cell_type": "code",
   "execution_count": 4,
   "outputs": [],
   "source": [
    "number_of_topics = 10\n",
    "max_iterations = 2"
   ],
   "metadata": {
    "collapsed": false,
    "pycharm": {
     "name": "#%%\n",
     "is_executing": false
    }
   }
  },
  {
   "cell_type": "code",
   "execution_count": 5,
   "outputs": [
    {
     "name": "stdout",
     "text": [
      "d t 20\n",
      "d t 1 10\n",
      "20\n",
      "25132\n",
      "10\n",
      "Initializing...\n",
      "[[1.05712354e+002 1.13116765e+002 1.00021317e+002 1.05911061e+002\n",
      "  1.07861222e+002 1.04501468e+002 9.68628173e+001 1.15905458e+002\n",
      "  1.10548822e+002 1.02925262e+002]\n",
      " [1.56687917e+008 3.39296246e+019 1.61671883e+002 1.71191913e+002\n",
      "  1.74344103e+002 1.68913484e+002 1.56566566e+002 1.87346600e+002\n",
      "  1.78688272e+002 1.66365745e+002]\n",
      " [1.34352519e+008 1.36419502e+042 2.20531824e+087 1.46789014e+002\n",
      "  1.49491869e+002 1.44835368e+002 1.34248466e+002 1.60640898e+002\n",
      "  1.53216789e+002 1.42650802e+002]\n",
      " [1.23581642e+008 1.25482918e+042 5.30113713e+177 0.00000000e+000\n",
      "  1.37507289e+002 1.33224094e+002 1.23485931e+002 1.47762514e+002\n",
      "  1.40933586e+002 1.31214662e+002]\n",
      " [1.39227758e+008 1.41369746e+042 5.97229027e+177 0.00000000e+000\n",
      "  0.00000000e+000 1.50090997e+002 1.39119929e+002 1.66470062e+002\n",
      "  1.58776554e+002 1.47827160e+002]\n",
      " [7.26410623e+008 7.37586287e+042 3.11599868e+178 0.00000000e+000\n",
      "  0.00000000e+000 0.00000000e+000 7.25848036e+002 8.68545346e+002\n",
      "  8.28405034e+002 7.71277374e+002]\n",
      " [1.53513342e+008 1.55875110e+042 6.58508227e+177 0.00000000e+000\n",
      "  0.00000000e+000 0.00000000e+000 0.00000000e+000 1.83550866e+002\n",
      "  1.75067959e+002 1.62995093e+002]\n",
      " [1.20293690e+008 1.22144381e+042 5.16009770e+177 0.00000000e+000\n",
      "  0.00000000e+000 0.00000000e+000 0.00000000e+000 0.00000000e+000\n",
      "  1.37183977e+002 1.27723629e+002]\n",
      " [1.28116748e+008 1.30087795e+042 5.49567427e+177 0.00000000e+000\n",
      "  0.00000000e+000 0.00000000e+000 0.00000000e+000 0.00000000e+000\n",
      "  0.00000000e+000 1.36029879e+002]\n",
      " [8.27656868e+006 8.40390181e+040 3.55030285e+176 0.00000000e+000\n",
      "  0.00000000e+000 0.00000000e+000 0.00000000e+000 0.00000000e+000\n",
      "  0.00000000e+000 0.00000000e+000]\n",
      " [1.65304618e+008 1.67847792e+042 7.09087884e+177 0.00000000e+000\n",
      "  0.00000000e+000 0.00000000e+000 0.00000000e+000 0.00000000e+000\n",
      "  0.00000000e+000 0.00000000e+000]\n",
      " [3.78532837e+010 3.84356479e+044 1.62374803e+180 0.00000000e+000\n",
      "  0.00000000e+000 0.00000000e+000 0.00000000e+000 0.00000000e+000\n",
      "  0.00000000e+000 0.00000000e+000]\n",
      " [1.48978236e+008 1.51270233e+042 6.39054513e+177 0.00000000e+000\n",
      "  0.00000000e+000 0.00000000e+000 0.00000000e+000 0.00000000e+000\n",
      "  0.00000000e+000 0.00000000e+000]\n",
      " [1.67458794e+008 1.70035109e+042 7.18328398e+177 0.00000000e+000\n",
      "  0.00000000e+000 0.00000000e+000 0.00000000e+000 0.00000000e+000\n",
      "  0.00000000e+000 0.00000000e+000]\n",
      " [1.15871961e+008 1.17654625e+042 4.97042399e+177 0.00000000e+000\n",
      "  0.00000000e+000 0.00000000e+000 0.00000000e+000 0.00000000e+000\n",
      "  0.00000000e+000 0.00000000e+000]\n",
      " [1.43422731e+008 1.45629257e+042 6.15223713e+177 0.00000000e+000\n",
      "  0.00000000e+000 0.00000000e+000 0.00000000e+000 0.00000000e+000\n",
      "  0.00000000e+000 0.00000000e+000]\n",
      " [1.76415628e+008 1.79129743e+042 7.56749484e+177 0.00000000e+000\n",
      "  0.00000000e+000 0.00000000e+000 0.00000000e+000 0.00000000e+000\n",
      "  0.00000000e+000 0.00000000e+000]\n",
      " [1.33785631e+008 1.35843892e+042 5.73884570e+177 0.00000000e+000\n",
      "  0.00000000e+000 0.00000000e+000 0.00000000e+000 0.00000000e+000\n",
      "  0.00000000e+000 0.00000000e+000]\n",
      " [2.48410438e+008 2.52232176e+042 1.06557720e+178 0.00000000e+000\n",
      "  0.00000000e+000 0.00000000e+000 0.00000000e+000 0.00000000e+000\n",
      "  0.00000000e+000 0.00000000e+000]\n",
      " [1.72334033e+008 1.74985353e+042 7.39241141e+177 0.00000000e+000\n",
      "  0.00000000e+000 0.00000000e+000 0.00000000e+000 0.00000000e+000\n",
      "  0.00000000e+000 0.00000000e+000]]\n",
      "[[8.57289672e+001 8.55000000e+002 8.55000000e+002 8.55000000e+002\n",
      "  8.55000000e+002 8.55000000e+002 8.55000000e+002 8.55000000e+002\n",
      "  8.55000000e+002 8.55000000e+002]\n",
      " [9.10264590e+009 1.14509980e+023 1.38200000e+003 1.38200000e+003\n",
      "  1.38200000e+003 1.38200000e+003 1.38200000e+003 1.38200000e+003\n",
      "  1.38200000e+003 1.38200000e+003]\n",
      " [7.80509073e+009 1.55383547e+049 2.86106953e+101 1.18500000e+003\n",
      "  1.18500000e+003 1.18500000e+003 1.18500000e+003 1.18500000e+003\n",
      "  1.18500000e+003 1.18500000e+003]\n",
      " [7.17936616e+009 1.42926638e+049 8.92243353e+205 0.00000000e+000\n",
      "  1.09000000e+003 1.09000000e+003 1.09000000e+003 1.09000000e+003\n",
      "  1.09000000e+003 1.09000000e+003]\n",
      " [8.08831343e+009 1.61021937e+049 1.00520627e+206 0.00000000e+000\n",
      "  0.00000000e+000 1.22800000e+003 1.22800000e+003 1.22800000e+003\n",
      "  1.22800000e+003 1.22800000e+003]\n",
      " [4.22001825e+010 8.40120156e+049 5.24459006e+206 0.00000000e+000\n",
      "  0.00000000e+000 0.00000000e+000 6.40700000e+003 6.40700000e+003\n",
      "  6.40700000e+003 6.40700000e+003]\n",
      " [8.91822181e+009 1.77543732e+049 1.10834633e+206 0.00000000e+000\n",
      "  0.00000000e+000 0.00000000e+000 0.00000000e+000 1.35400000e+003\n",
      "  1.35400000e+003 1.35400000e+003]\n",
      " [6.98835550e+009 1.39124003e+049 8.68504769e+205 0.00000000e+000\n",
      "  0.00000000e+000 0.00000000e+000 0.00000000e+000 0.00000000e+000\n",
      "  1.06100000e+003 1.06100000e+003]\n",
      " [7.44282914e+009 1.48171652e+049 9.24986229e+205 0.00000000e+000\n",
      "  0.00000000e+000 0.00000000e+000 0.00000000e+000 0.00000000e+000\n",
      "  0.00000000e+000 1.13000000e+003]\n",
      " [4.80819935e+008 9.57215099e+047 5.97557475e+204 0.00000000e+000\n",
      "  0.00000000e+000 0.00000000e+000 0.00000000e+000 0.00000000e+000\n",
      "  0.00000000e+000 0.00000000e+000]\n",
      " [9.60322556e+009 1.91180769e+049 1.19347781e+206 0.00000000e+000\n",
      "  0.00000000e+000 0.00000000e+000 0.00000000e+000 0.00000000e+000\n",
      "  0.00000000e+000 0.00000000e+000]\n",
      " [2.19905303e+012 4.37786915e+051 2.73295776e+208 0.00000000e+000\n",
      "  0.00000000e+000 0.00000000e+000 0.00000000e+000 0.00000000e+000\n",
      "  0.00000000e+000 0.00000000e+000]\n",
      " [8.65475883e+009 1.72298718e+049 1.07560346e+206 0.00000000e+000\n",
      "  0.00000000e+000 0.00000000e+000 0.00000000e+000 0.00000000e+000\n",
      "  0.00000000e+000 0.00000000e+000]\n",
      " [9.72837047e+009 1.93672151e+049 1.20903067e+206 0.00000000e+000\n",
      "  0.00000000e+000 0.00000000e+000 0.00000000e+000 0.00000000e+000\n",
      "  0.00000000e+000 0.00000000e+000]\n",
      " [6.73147909e+009 1.34010114e+049 8.36580465e+205 0.00000000e+000\n",
      "  0.00000000e+000 0.00000000e+000 0.00000000e+000 0.00000000e+000\n",
      "  0.00000000e+000 0.00000000e+000]\n",
      " [8.33201669e+009 1.65873575e+049 1.03549343e+206 0.00000000e+000\n",
      "  0.00000000e+000 0.00000000e+000 0.00000000e+000 0.00000000e+000\n",
      "  0.00000000e+000 0.00000000e+000]\n",
      " [1.02487099e+010 2.04031054e+049 1.27369785e+206 0.00000000e+000\n",
      "  0.00000000e+000 0.00000000e+000 0.00000000e+000 0.00000000e+000\n",
      "  0.00000000e+000 0.00000000e+000]\n",
      " [7.77215786e+009 1.54727920e+049 9.65914823e+205 0.00000000e+000\n",
      "  0.00000000e+000 0.00000000e+000 0.00000000e+000 0.00000000e+000\n",
      "  0.00000000e+000 0.00000000e+000]\n",
      " [1.44311846e+010 2.87295655e+049 1.79349100e+206 0.00000000e+000\n",
      "  0.00000000e+000 0.00000000e+000 0.00000000e+000 0.00000000e+000\n",
      "  0.00000000e+000 0.00000000e+000]\n",
      " [1.00115932e+010 1.99310541e+049 1.24422926e+206 0.00000000e+000\n",
      "  0.00000000e+000 0.00000000e+000 0.00000000e+000 0.00000000e+000\n",
      "  0.00000000e+000 0.00000000e+000]]\n"
     ],
     "output_type": "stream"
    }
   ],
   "source": [
    "corpus.new_plsa(number_of_topics, max_iterations)"
   ],
   "metadata": {
    "collapsed": false,
    "pycharm": {
     "name": "#%%\n",
     "is_executing": false
    }
   }
  },
  {
   "cell_type": "code",
   "execution_count": 9,
   "outputs": [
    {
     "traceback": [
      "\u001b[1;31m---------------------------------------------------------------------------\u001b[0m",
      "\u001b[1;31mValueError\u001b[0m                                Traceback (most recent call last)",
      "\u001b[1;32m<ipython-input-9-093e58f1173d>\u001b[0m in \u001b[0;36m<module>\u001b[1;34m\u001b[0m\n\u001b[1;32m----> 1\u001b[1;33m \u001b[0mw\u001b[0m \u001b[1;33m=\u001b[0m \u001b[0mcorpus\u001b[0m\u001b[1;33m.\u001b[0m\u001b[0mp_wt\u001b[0m\u001b[1;33m(\u001b[0m\u001b[0mcorpus\u001b[0m\u001b[1;33m.\u001b[0m\u001b[0mtopic_word_prob\u001b[0m\u001b[1;33m[\u001b[0m \u001b[1;36m1\u001b[0m\u001b[1;33m]\u001b[0m\u001b[1;33m,\u001b[0m \u001b[0mcorpus\u001b[0m\u001b[1;33m.\u001b[0m\u001b[0mtopic_basis\u001b[0m\u001b[1;33m,\u001b[0m \u001b[0mnumber_of_topics\u001b[0m\u001b[1;33m)\u001b[0m\u001b[1;33m\u001b[0m\u001b[1;33m\u001b[0m\u001b[0m\n\u001b[0m\u001b[0;32m      2\u001b[0m \u001b[1;33m\u001b[0m\u001b[0m\n",
      "\u001b[1;32m~\\Documents\\University v2\\pLSA\\pLSA.py\u001b[0m in \u001b[0;36mp_wt\u001b[1;34m(self, w, T, number_of_topics)\u001b[0m\n\u001b[0;32m    119\u001b[0m \u001b[1;33m\u001b[0m\u001b[0m\n\u001b[0;32m    120\u001b[0m         \u001b[1;32mfor\u001b[0m \u001b[0mi\u001b[0m \u001b[1;32min\u001b[0m \u001b[0mrange\u001b[0m\u001b[1;33m(\u001b[0m\u001b[0mnumber_of_topics\u001b[0m\u001b[1;33m)\u001b[0m\u001b[1;33m:\u001b[0m\u001b[1;33m\u001b[0m\u001b[1;33m\u001b[0m\u001b[0m\n\u001b[1;32m--> 121\u001b[1;33m             \u001b[0mproj_all\u001b[0m\u001b[1;33m.\u001b[0m\u001b[0mappend\u001b[0m\u001b[1;33m(\u001b[0m\u001b[0mproj\u001b[0m\u001b[1;33m(\u001b[0m\u001b[0mw\u001b[0m\u001b[1;33m,\u001b[0m \u001b[0mT\u001b[0m\u001b[1;33m[\u001b[0m\u001b[0mi\u001b[0m\u001b[1;33m]\u001b[0m\u001b[1;33m)\u001b[0m\u001b[1;33m)\u001b[0m\u001b[1;33m\u001b[0m\u001b[1;33m\u001b[0m\u001b[0m\n\u001b[0m\u001b[0;32m    122\u001b[0m         \u001b[0mproj_all\u001b[0m \u001b[1;33m=\u001b[0m \u001b[0mnp\u001b[0m\u001b[1;33m.\u001b[0m\u001b[0marray\u001b[0m\u001b[1;33m(\u001b[0m\u001b[0mproj_all\u001b[0m\u001b[1;33m)\u001b[0m\u001b[1;33m\u001b[0m\u001b[1;33m\u001b[0m\u001b[0m\n\u001b[0;32m    123\u001b[0m \u001b[1;33m\u001b[0m\u001b[0m\n",
      "\u001b[1;32m~\\Documents\\University v2\\pLSA\\pLSA.py\u001b[0m in \u001b[0;36mproj\u001b[1;34m(v1, v2)\u001b[0m\n\u001b[0;32m     22\u001b[0m     \u001b[1;32mreturn\u001b[0m \u001b[0mmap\u001b[0m \u001b[1;33m(\u001b[0m\u001b[1;33m(\u001b[0m \u001b[1;32mlambda\u001b[0m \u001b[0mx\u001b[0m \u001b[1;33m:\u001b[0m \u001b[0mx\u001b[0m \u001b[1;33m*\u001b[0m \u001b[0mcofficient\u001b[0m \u001b[1;33m)\u001b[0m \u001b[1;33m,\u001b[0m \u001b[0mv\u001b[0m \u001b[1;33m)\u001b[0m\u001b[1;33m\u001b[0m\u001b[1;33m\u001b[0m\u001b[0m\n\u001b[0;32m     23\u001b[0m \u001b[1;32mdef\u001b[0m \u001b[0mproj\u001b[0m \u001b[1;33m(\u001b[0m \u001b[0mv1\u001b[0m \u001b[1;33m,\u001b[0m \u001b[0mv2\u001b[0m \u001b[1;33m)\u001b[0m\u001b[1;33m:\u001b[0m\u001b[1;33m\u001b[0m\u001b[1;33m\u001b[0m\u001b[0m\n\u001b[1;32m---> 24\u001b[1;33m     \u001b[1;32mreturn\u001b[0m \u001b[0mmultiply\u001b[0m \u001b[1;33m(\u001b[0m \u001b[0mgs_cofficient\u001b[0m \u001b[1;33m(\u001b[0m \u001b[0mv1\u001b[0m \u001b[1;33m,\u001b[0m \u001b[0mv2\u001b[0m \u001b[1;33m)\u001b[0m \u001b[1;33m,\u001b[0m \u001b[0mv1\u001b[0m \u001b[1;33m)\u001b[0m\u001b[1;33m\u001b[0m\u001b[1;33m\u001b[0m\u001b[0m\n\u001b[0m\u001b[0;32m     25\u001b[0m \u001b[1;32mclass\u001b[0m \u001b[0mDocument\u001b[0m\u001b[1;33m(\u001b[0m\u001b[0mobject\u001b[0m\u001b[1;33m)\u001b[0m\u001b[1;33m:\u001b[0m\u001b[1;33m\u001b[0m\u001b[1;33m\u001b[0m\u001b[0m\n\u001b[0;32m     26\u001b[0m     '''\n",
      "\u001b[1;32m~\\Documents\\University v2\\pLSA\\pLSA.py\u001b[0m in \u001b[0;36mgs_cofficient\u001b[1;34m(v1, v2)\u001b[0m\n\u001b[0;32m     18\u001b[0m     \u001b[1;32mreturn\u001b[0m \u001b[0mnp\u001b[0m\u001b[1;33m.\u001b[0m\u001b[0mmultiply\u001b[0m \u001b[1;33m(\u001b[0m \u001b[0mgs_cofficient\u001b[0m \u001b[1;33m(\u001b[0m \u001b[0mv1\u001b[0m \u001b[1;33m,\u001b[0m \u001b[0mv2\u001b[0m \u001b[1;33m)\u001b[0m \u001b[1;33m,\u001b[0m \u001b[0mv1\u001b[0m \u001b[1;33m)\u001b[0m\u001b[1;33m\u001b[0m\u001b[1;33m\u001b[0m\u001b[0m\n\u001b[0;32m     19\u001b[0m \u001b[1;32mdef\u001b[0m \u001b[0mgs_cofficient\u001b[0m \u001b[1;33m(\u001b[0m \u001b[0mv1\u001b[0m \u001b[1;33m,\u001b[0m \u001b[0mv2\u001b[0m \u001b[1;33m)\u001b[0m\u001b[1;33m:\u001b[0m\u001b[1;33m\u001b[0m\u001b[1;33m\u001b[0m\u001b[0m\n\u001b[1;32m---> 20\u001b[1;33m     \u001b[1;32mreturn\u001b[0m \u001b[0mnp\u001b[0m \u001b[1;33m.\u001b[0m \u001b[0mdot\u001b[0m \u001b[1;33m(\u001b[0m \u001b[0mv2\u001b[0m \u001b[1;33m,\u001b[0m \u001b[0mv1\u001b[0m \u001b[1;33m)\u001b[0m \u001b[1;33m/\u001b[0m \u001b[0mnp\u001b[0m \u001b[1;33m.\u001b[0m \u001b[0mdot\u001b[0m \u001b[1;33m(\u001b[0m \u001b[0mv1\u001b[0m \u001b[1;33m,\u001b[0m \u001b[0mv1\u001b[0m \u001b[1;33m)\u001b[0m\u001b[1;33m\u001b[0m\u001b[1;33m\u001b[0m\u001b[0m\n\u001b[0m\u001b[0;32m     21\u001b[0m \u001b[1;32mdef\u001b[0m \u001b[0mmultiply\u001b[0m \u001b[1;33m(\u001b[0m \u001b[0mcofficient\u001b[0m \u001b[1;33m,\u001b[0m \u001b[0mv\u001b[0m \u001b[1;33m)\u001b[0m\u001b[1;33m:\u001b[0m\u001b[1;33m\u001b[0m\u001b[1;33m\u001b[0m\u001b[0m\n\u001b[0;32m     22\u001b[0m     \u001b[1;32mreturn\u001b[0m \u001b[0mmap\u001b[0m \u001b[1;33m(\u001b[0m\u001b[1;33m(\u001b[0m \u001b[1;32mlambda\u001b[0m \u001b[0mx\u001b[0m \u001b[1;33m:\u001b[0m \u001b[0mx\u001b[0m \u001b[1;33m*\u001b[0m \u001b[0mcofficient\u001b[0m \u001b[1;33m)\u001b[0m \u001b[1;33m,\u001b[0m \u001b[0mv\u001b[0m \u001b[1;33m)\u001b[0m\u001b[1;33m\u001b[0m\u001b[1;33m\u001b[0m\u001b[0m\n",
      "\u001b[1;32m<__array_function__ internals>\u001b[0m in \u001b[0;36mdot\u001b[1;34m(*args, **kwargs)\u001b[0m\n",
      "\u001b[1;31mValueError\u001b[0m: shapes (10,) and (25132,) not aligned: 10 (dim 0) != 25132 (dim 0)"
     ],
     "ename": "ValueError",
     "evalue": "shapes (10,) and (25132,) not aligned: 10 (dim 0) != 25132 (dim 0)",
     "output_type": "error"
    }
   ],
   "source": [
    "w = corpus.p_wt(corpus.topic_word_prob[:, 1], corpus.topic_basis, number_of_topics)"
   ],
   "metadata": {
    "collapsed": false,
    "pycharm": {
     "name": "#%%\n",
     "is_executing": false
    }
   }
  },
  {
   "cell_type": "code",
   "execution_count": 10,
   "outputs": [],
   "source": [
    "import numpy as np\n",
    "proj_all =  np.zeros(shape=(number_of_topics, number_of_topics))\n"
   ],
   "metadata": {
    "collapsed": false,
    "pycharm": {
     "name": "#%%\n",
     "is_executing": false
    }
   }
  },
  {
   "cell_type": "code",
   "execution_count": 17,
   "outputs": [],
   "source": [
    "n =pLSA.proj(corpus.topic_word_prob[:,0], corpus.topic_basis[0])\n"
   ],
   "metadata": {
    "collapsed": false,
    "pycharm": {
     "name": "#%%\n",
     "is_executing": false
    }
   }
  },
  {
   "cell_type": "code",
   "execution_count": 33,
   "outputs": [],
   "source": [
    "def gs_cofficient ( v1 , v2 ):\n",
    "    return np . dot ( v2 , v1 ) / np . dot ( v1 , v1 )\n",
    "def proj ( v1 , v2 ):\n",
    "    return np.multiply ( gs_cofficient ( v1 , v2 ) , v1 )\n",
    "def p_wt(w, T, number_of_topics):\n",
    "    pw = 1 / len(corpus.vocabulary)\n",
    "    pt = 1 / number_of_topics\n",
    "    proj_all =  np.zeros(shape=(number_of_topics, number_of_topics))\n",
    "\n",
    "    for i in range(number_of_topics):\n",
    "        proj_all[i] = (proj(w, T[i]))\n",
    "    \n",
    "    p_wt = proj_all.dot(w)\n",
    "    p_wt= p_wt.dot(w.T)\n",
    "    return p_wt #* pw / pt\n",
    "\n"
   ],
   "metadata": {
    "collapsed": false,
    "pycharm": {
     "name": "#%%\n",
     "is_executing": false
    }
   }
  },
  {
   "cell_type": "code",
   "execution_count": 12,
   "outputs": [],
   "source": [
    "tp = []"
   ],
   "metadata": {
    "collapsed": false,
    "pycharm": {
     "name": "#%%\n",
     "is_executing": false
    }
   }
  },
  {
   "cell_type": "code",
   "execution_count": 16,
   "outputs": [
    {
     "name": "stdout",
     "text": [
      "['activity\\n', 'algorithm\\n', 'application\\n', 'class\\n', 'code\\n', 'cycle\\n', 'data\\n', 'indexer\\n', 'inheritance\\n', 'java\\n', 'objectname\\n', 'operator\\n', 'polymorphism\\n', 'postcondition\\n', 'program\\n', 'programming\\n', 'stream\\n', 'subroutine\\n', 'tag\\n', 'version\\n', 'information\\n', 'account\\n', 'authentication\\n', 'calculator\\n', 'compactdisc\\n', 'computer\\n', 'data\\n', 'database\\n', 'domain\\n', 'ebook\\n', 'encryption\\n', 'engineering\\n', 'file\\n', 'keyboard\\n', 'link\\n', 'microservice\\n', 'pattern\\n', 'programmer\\n', 'protocol\\n', 'scanner\\n', 'server\\n', 'site\\n', 'software\\n', 'support\\n', 'system\\n', 'toolbar\\n', 'user\\n', 'blood\\n', 'bone\\n', 'brain\\n', 'calvaria\\n', 'cell\\n', 'embryo\\n', 'eye\\n', 'gene\\n', 'growth\\n', 'hand\\n', 'health\\n', 'heart\\n', 'kidney\\n', 'liver\\n', 'memory\\n', 'muscle\\n', 'nerve\\n', 'organism\\n', 'physiology\\n', 'plasma\\n', 'receptor\\n', 'skeleton\\n', 'uterus\\n', 'boot\\n', 'case\\n', 'drink\\n', 'establishment\\n', 'fitness\\n', 'п¬‚exibility\\n', 'food\\n', 'friend\\n', 'gel\\n', 'group\\n', 'letter\\n', 'list\\n', 'medium\\n', 'model\\n', 'postcode\\n', 'relationship\\n', 'song\\n', 'spring\\n', 'task\\n', 'thread\\n', 'time\\n', 'water\\n', 'week\\n', 'year\\n', 'area\\n', 'border\\n', 'city\\n', 'distance\\n', 'europe\\n', 'germany\\n', 'height\\n', 'ireland\\n', 'israel\\n', 'japan\\n', 'layering\\n', 'location\\n', 'malaysia\\n', 'mile\\n', 'name\\n', 'netherlands\\n', 'philadelphia\\n', 'pool\\n', 'population\\n', 'region\\n', 'river\\n', 'silica\\n', 'surface\\n', 'concentration\\n', 'energy\\n', 'equation\\n', 'fact\\n', 'factor\\n', 'gradient\\n', 'keywords\\n', 'light\\n', 'membrane\\n', 'method\\n', 'mode\\n', 'neuron\\n', 'perturbation\\n', 'prototype\\n', 'range\\n', 'reference\\n', 'research\\n', 'result\\n', 'science\\n', 'study\\n', 'acetaldehyde\\n', 'acid\\n', 'adenine\\n', 'albuterol\\n', 'auxin\\n', 'butanol\\n', 'cadmium\\n', 'calcium\\n', 'chlorophenol\\n', 'curcumin\\n', 'diketones\\n', 'ethanol\\n', 'fungicide\\n', 'glucose\\n', 'hydrate\\n', 'mercaptoethanol\\n', 'methyl\\n', 'oxygen\\n', 'phenol\\n', 'phosphate\\n', 'potassium\\n', 'sulfate\\n', 'metal\\n', 'sulphonate\\n', 'ion\\n', 'acceptor\\n', 'acetylation\\n', 'chemistry\\n', 'combustion\\n', 'concentration\\n', 'decarboxylation\\n', 'dissociation\\n', 'hydroxylation\\n', 'inhibition\\n', 'inhibitor\\n', 'interaction\\n', 'joint\\n', 'marker\\n', 'mass\\n', 'methylation\\n', 'mixture\\n', 'molecule\\n', 'oxidation\\n', 'reagent\\n', 'spectrometer\\n', 'spectrometry\\n', 'control\\n', 'crystal\\n', 'curve\\n', 'deallocation\\n', 'п¬Ѓelds\\n', 'п¬‚uidity\\n', 'п¬‚uorescence\\n', 'induces\\n', 'inп¬‚ammation\\n', 'mass\\n', 'match\\n', 'mechanism\\n', 'membrane\\n', 'origin\\n', 'plasma\\n', 'power\\n', 'receiver\\n', 'reflection\\n', 'regression\\n', 'sound\\n', 'space\\n', 'unit\\n', 'volume\\n', 'caveat\\n', 'child\\n', 'citizen\\n', 'communication\\n', 'decade\\n', 'degradation\\n', 'event\\n', 'fication\\n', 'grant\\n', 'identity\\n', 'interest\\n', 'mission\\n', 'person\\n', 'position\\n', 'process\\n', 'regulation\\n', 'rule\\n', 'start\\n', 'status\\n', 'stimulus\\n', 'structure\\n', 'array\\n', 'computation\\n', 'conversion\\n', 'cosine\\n', 'count\\n', 'equation\\n', 'example\\n', 'expression\\n', 'integer\\n', 'iteration\\n', 'line\\n', 'matrix\\n', 'notation\\n', 'percentage\\n', 'point\\n', 'quarter\\n', 'scope\\n', 'solution\\n', 'statement\\n', 'variable\\n', 'contamination\\n', 'cycle\\n', 'document\\n', 'dose\\n', 'ecology\\n', 'extraction\\n', 'land\\n', 'level\\n', 'object\\n', 'perspective\\n', 'precipitation\\n', 'problem\\n', 'range\\n', 'refuse\\n', 'removal\\n', 'sample\\n', 'score\\n', 'stability\\n', 'toxicity\\n', 'urbanization\\n', 'antioxidant\\n', 'catalase\\n', 'chelators\\n', 'drug\\n', 'enzyme\\n', 'glycine\\n', 'hydrolase\\n', 'insulin\\n', 'keratitis\\n', 'linux\\n', 'lutein\\n', 'poison\\n', 'pyrene\\n', 'retinol\\n', 'sanguinarine\\n', 'treatment\\n', 'valproate\\n', 'hydroxysteroid\\n', 'glabridin\\n', 'dehydrogenase\\n', 'book\\n', 'chapter\\n', 'character\\n', 'colon\\n', 'exposure\\n', 'game\\n', 'grammar\\n', 'image\\n', 'integrity\\n', 'library\\n', 'movie\\n', 'page\\n', 'publication\\n', 'quote\\n', 'reader\\n', 'reading\\n', 'word\\n', 'formation\\n', 'school\\n', 'conп¬‚ict\\n', 'pipeline\\n', 'building\\n', 'transport\\n', 'reservoir\\n', 'asphalt\\n', 'power\\n', 'production\\n', 'machinery\\n', 'isolation\\n', 'packaging\\n', 'layer\\n', 'fuse\\n', 'tree\\n', 'resistance\\n', 'container\\n', 'mechanism\\n', 'level\\n', 'window\\n', 'sound\\n', 'vehicle\\n', 'wall\\n', 'substrate\\n', 'amborella\\n', 'bird\\n', 'cancer\\n', 'chimpanzee\\n', 'comar\\n', 'equine\\n', 'goat\\n', 'jellyfish\\n', 'mouse\\n', 'mutation\\n', 'person\\n', 'plant\\n', 'pollen\\n', 'rat\\n', 'sambucus\\n', 'behavior\\n', 'apple\\n', 'duck\\n', 'monkey\\n', 'apple\\n', 'rabbit\\n', 'ancestor\\n', 'backbone\\n', 'biogenesis\\n', 'biomaterials\\n', 'biotechnology\\n', 'cell\\n', 'chromosome\\n', 'conjugation\\n', 'cytochrome\\n', 'cytometry\\n', 'cytotoxicity\\n', 'epithelium\\n', 'gene\\n', 'genetics\\n', 'kidney\\n', 'mitochondrion\\n', 'oxidoreductase\\n', 'oxoglutarate\\n', 'phagocyte\\n', 'photosensitizer\\n', 'proliferation\\n', 'protein\\n', 'viability\\n', 'yeast\\n', 'tibody\\n', 'bacteria\\n', 'bioassay\\n', 'chromatin\\n', 'death\\n', 'diabetes\\n', 'electrophoresis\\n', 'glioma\\n', 'glycolysis\\n', 'hyperplasia\\n', 'hypoxia\\n', 'injury\\n', 'ischemia\\n', 'leukemia\\n', 'lysosome\\n', 'medicine\\n', 'meiosis\\n', 'necrosis\\n', 'protein\\n', 'streptococcus\\n', 'stress\\n', 'synaptosomes\\n', 'temperature\\n', 'toxicology\\n', 'tumor\\n', 'biologist\\n', 'meteorologist\\n', 'promoter\\n', 'consul\\n', 'philanthropist\\n', 'prince\\n', 'writer\\n', 'collier\\n', 'potter\\n', 'farmer\\n', 'director\\n', 'miner\\n', 'delegate\\n', 'collector\\n', 'author\\n', 'cartwright\\n', 'provider\\n', 'developer\\n', 'successor\\n', 'worker\\n', 'cryptographer\\n', 'book\\n', 'chapter\\n', 'character\\n', 'integrity\\n', 'library\\n', 'page\\n', 'publication\\n', 'quote\\n', 'reader\\n', 'reading\\n', 'language\\n', 'sequence\\n', 'figure\\n', 'criticism\\n', 'annotation\\n', 'correspondence\\n', 'interest\\n', 'content\\n', 'culture\\n', 'message\\n', 'comparison\\n']\n"
     ],
     "output_type": "stream"
    },
    {
     "data": {
      "text/plain": "['activity\\n',\n 'algorithm\\n',\n 'application\\n',\n 'class\\n',\n 'code\\n',\n 'cycle\\n',\n 'data\\n',\n 'indexer\\n',\n 'inheritance\\n',\n 'java\\n',\n 'objectname\\n',\n 'operator\\n',\n 'polymorphism\\n',\n 'postcondition\\n',\n 'program\\n',\n 'programming\\n',\n 'stream\\n',\n 'subroutine\\n',\n 'tag\\n',\n 'version\\n',\n 'information\\n',\n 'account\\n',\n 'authentication\\n',\n 'calculator\\n',\n 'compactdisc\\n',\n 'computer\\n',\n 'data\\n',\n 'database\\n',\n 'domain\\n',\n 'ebook\\n',\n 'encryption\\n',\n 'engineering\\n',\n 'file\\n',\n 'keyboard\\n',\n 'link\\n',\n 'microservice\\n',\n 'pattern\\n',\n 'programmer\\n',\n 'protocol\\n',\n 'scanner\\n',\n 'server\\n',\n 'site\\n',\n 'software\\n',\n 'support\\n',\n 'system\\n',\n 'toolbar\\n',\n 'user\\n',\n 'blood\\n',\n 'bone\\n',\n 'brain\\n',\n 'calvaria\\n',\n 'cell\\n',\n 'embryo\\n',\n 'eye\\n',\n 'gene\\n',\n 'growth\\n',\n 'hand\\n',\n 'health\\n',\n 'heart\\n',\n 'kidney\\n',\n 'liver\\n',\n 'memory\\n',\n 'muscle\\n',\n 'nerve\\n',\n 'organism\\n',\n 'physiology\\n',\n 'plasma\\n',\n 'receptor\\n',\n 'skeleton\\n',\n 'uterus\\n',\n 'boot\\n',\n 'case\\n',\n 'drink\\n',\n 'establishment\\n',\n 'fitness\\n',\n 'п¬‚exibility\\n',\n 'food\\n',\n 'friend\\n',\n 'gel\\n',\n 'group\\n',\n 'letter\\n',\n 'list\\n',\n 'medium\\n',\n 'model\\n',\n 'postcode\\n',\n 'relationship\\n',\n 'song\\n',\n 'spring\\n',\n 'task\\n',\n 'thread\\n',\n 'time\\n',\n 'water\\n',\n 'week\\n',\n 'year\\n',\n 'area\\n',\n 'border\\n',\n 'city\\n',\n 'distance\\n',\n 'europe\\n',\n 'germany\\n',\n 'height\\n',\n 'ireland\\n',\n 'israel\\n',\n 'japan\\n',\n 'layering\\n',\n 'location\\n',\n 'malaysia\\n',\n 'mile\\n',\n 'name\\n',\n 'netherlands\\n',\n 'philadelphia\\n',\n 'pool\\n',\n 'population\\n',\n 'region\\n',\n 'river\\n',\n 'silica\\n',\n 'surface\\n',\n 'concentration\\n',\n 'energy\\n',\n 'equation\\n',\n 'fact\\n',\n 'factor\\n',\n 'gradient\\n',\n 'keywords\\n',\n 'light\\n',\n 'membrane\\n',\n 'method\\n',\n 'mode\\n',\n 'neuron\\n',\n 'perturbation\\n',\n 'prototype\\n',\n 'range\\n',\n 'reference\\n',\n 'research\\n',\n 'result\\n',\n 'science\\n',\n 'study\\n',\n 'acetaldehyde\\n',\n 'acid\\n',\n 'adenine\\n',\n 'albuterol\\n',\n 'auxin\\n',\n 'butanol\\n',\n 'cadmium\\n',\n 'calcium\\n',\n 'chlorophenol\\n',\n 'curcumin\\n',\n 'diketones\\n',\n 'ethanol\\n',\n 'fungicide\\n',\n 'glucose\\n',\n 'hydrate\\n',\n 'mercaptoethanol\\n',\n 'methyl\\n',\n 'oxygen\\n',\n 'phenol\\n',\n 'phosphate\\n',\n 'potassium\\n',\n 'sulfate\\n',\n 'metal\\n',\n 'sulphonate\\n',\n 'ion\\n',\n 'acceptor\\n',\n 'acetylation\\n',\n 'chemistry\\n',\n 'combustion\\n',\n 'concentration\\n',\n 'decarboxylation\\n',\n 'dissociation\\n',\n 'hydroxylation\\n',\n 'inhibition\\n',\n 'inhibitor\\n',\n 'interaction\\n',\n 'joint\\n',\n 'marker\\n',\n 'mass\\n',\n 'methylation\\n',\n 'mixture\\n',\n 'molecule\\n',\n 'oxidation\\n',\n 'reagent\\n',\n 'spectrometer\\n',\n 'spectrometry\\n',\n 'control\\n',\n 'crystal\\n',\n 'curve\\n',\n 'deallocation\\n',\n 'п¬Ѓelds\\n',\n 'п¬‚uidity\\n',\n 'п¬‚uorescence\\n',\n 'induces\\n',\n 'inп¬‚ammation\\n',\n 'mass\\n',\n 'match\\n',\n 'mechanism\\n',\n 'membrane\\n',\n 'origin\\n',\n 'plasma\\n',\n 'power\\n',\n 'receiver\\n',\n 'reflection\\n',\n 'regression\\n',\n 'sound\\n',\n 'space\\n',\n 'unit\\n',\n 'volume\\n',\n 'caveat\\n',\n 'child\\n',\n 'citizen\\n',\n 'communication\\n',\n 'decade\\n',\n 'degradation\\n',\n 'event\\n',\n 'fication\\n',\n 'grant\\n',\n 'identity\\n',\n 'interest\\n',\n 'mission\\n',\n 'person\\n',\n 'position\\n',\n 'process\\n',\n 'regulation\\n',\n 'rule\\n',\n 'start\\n',\n 'status\\n',\n 'stimulus\\n',\n 'structure\\n',\n 'array\\n',\n 'computation\\n',\n 'conversion\\n',\n 'cosine\\n',\n 'count\\n',\n 'equation\\n',\n 'example\\n',\n 'expression\\n',\n 'integer\\n',\n 'iteration\\n',\n 'line\\n',\n 'matrix\\n',\n 'notation\\n',\n 'percentage\\n',\n 'point\\n',\n 'quarter\\n',\n 'scope\\n',\n 'solution\\n',\n 'statement\\n',\n 'variable\\n',\n 'contamination\\n',\n 'cycle\\n',\n 'document\\n',\n 'dose\\n',\n 'ecology\\n',\n 'extraction\\n',\n 'land\\n',\n 'level\\n',\n 'object\\n',\n 'perspective\\n',\n 'precipitation\\n',\n 'problem\\n',\n 'range\\n',\n 'refuse\\n',\n 'removal\\n',\n 'sample\\n',\n 'score\\n',\n 'stability\\n',\n 'toxicity\\n',\n 'urbanization\\n',\n 'antioxidant\\n',\n 'catalase\\n',\n 'chelators\\n',\n 'drug\\n',\n 'enzyme\\n',\n 'glycine\\n',\n 'hydrolase\\n',\n 'insulin\\n',\n 'keratitis\\n',\n 'linux\\n',\n 'lutein\\n',\n 'poison\\n',\n 'pyrene\\n',\n 'retinol\\n',\n 'sanguinarine\\n',\n 'treatment\\n',\n 'valproate\\n',\n 'hydroxysteroid\\n',\n 'glabridin\\n',\n 'dehydrogenase\\n',\n 'book\\n',\n 'chapter\\n',\n 'character\\n',\n 'colon\\n',\n 'exposure\\n',\n 'game\\n',\n 'grammar\\n',\n 'image\\n',\n 'integrity\\n',\n 'library\\n',\n 'movie\\n',\n 'page\\n',\n 'publication\\n',\n 'quote\\n',\n 'reader\\n',\n 'reading\\n',\n 'word\\n',\n 'formation\\n',\n 'school\\n',\n 'conп¬‚ict\\n',\n 'pipeline\\n',\n 'building\\n',\n 'transport\\n',\n 'reservoir\\n',\n 'asphalt\\n',\n 'power\\n',\n 'production\\n',\n 'machinery\\n',\n 'isolation\\n',\n 'packaging\\n',\n 'layer\\n',\n 'fuse\\n',\n 'tree\\n',\n 'resistance\\n',\n 'container\\n',\n 'mechanism\\n',\n 'level\\n',\n 'window\\n',\n 'sound\\n',\n 'vehicle\\n',\n 'wall\\n',\n 'substrate\\n',\n 'amborella\\n',\n 'bird\\n',\n 'cancer\\n',\n 'chimpanzee\\n',\n 'comar\\n',\n 'equine\\n',\n 'goat\\n',\n 'jellyfish\\n',\n 'mouse\\n',\n 'mutation\\n',\n 'person\\n',\n 'plant\\n',\n 'pollen\\n',\n 'rat\\n',\n 'sambucus\\n',\n 'behavior\\n',\n 'apple\\n',\n 'duck\\n',\n 'monkey\\n',\n 'apple\\n',\n 'rabbit\\n',\n 'ancestor\\n',\n 'backbone\\n',\n 'biogenesis\\n',\n 'biomaterials\\n',\n 'biotechnology\\n',\n 'cell\\n',\n 'chromosome\\n',\n 'conjugation\\n',\n 'cytochrome\\n',\n 'cytometry\\n',\n 'cytotoxicity\\n',\n 'epithelium\\n',\n 'gene\\n',\n 'genetics\\n',\n 'kidney\\n',\n 'mitochondrion\\n',\n 'oxidoreductase\\n',\n 'oxoglutarate\\n',\n 'phagocyte\\n',\n 'photosensitizer\\n',\n 'proliferation\\n',\n 'protein\\n',\n 'viability\\n',\n 'yeast\\n',\n 'tibody\\n',\n 'bacteria\\n',\n 'bioassay\\n',\n 'chromatin\\n',\n 'death\\n',\n 'diabetes\\n',\n 'electrophoresis\\n',\n 'glioma\\n',\n 'glycolysis\\n',\n 'hyperplasia\\n',\n 'hypoxia\\n',\n 'injury\\n',\n 'ischemia\\n',\n 'leukemia\\n',\n 'lysosome\\n',\n 'medicine\\n',\n 'meiosis\\n',\n 'necrosis\\n',\n 'protein\\n',\n 'streptococcus\\n',\n 'stress\\n',\n 'synaptosomes\\n',\n 'temperature\\n',\n 'toxicology\\n',\n 'tumor\\n',\n 'biologist\\n',\n 'meteorologist\\n',\n 'promoter\\n',\n 'consul\\n',\n 'philanthropist\\n',\n 'prince\\n',\n 'writer\\n',\n 'collier\\n',\n 'potter\\n',\n 'farmer\\n',\n 'director\\n',\n 'miner\\n',\n 'delegate\\n',\n 'collector\\n',\n 'author\\n',\n 'cartwright\\n',\n 'provider\\n',\n 'developer\\n',\n 'successor\\n',\n 'worker\\n',\n 'cryptographer\\n',\n 'book\\n',\n 'chapter\\n',\n 'character\\n',\n 'integrity\\n',\n 'library\\n',\n 'page\\n',\n 'publication\\n',\n 'quote\\n',\n 'reader\\n',\n 'reading\\n',\n 'language\\n',\n 'sequence\\n',\n 'figure\\n',\n 'criticism\\n',\n 'annotation\\n',\n 'correspondence\\n',\n 'interest\\n',\n 'content\\n',\n 'culture\\n',\n 'message\\n',\n 'comparison\\n']"
     },
     "metadata": {},
     "output_type": "execute_result",
     "execution_count": 16
    }
   ],
   "source": [
    "text_file = open('manual_topics.txt', \"r\")\n",
    "lines = text_file.readlines()\n",
    "print(lines)\n",
    "text_file.close()\n",
    "\n",
    "lines"
   ],
   "metadata": {
    "collapsed": false,
    "pycharm": {
     "name": "#%%\n",
     "is_executing": false
    }
   }
  },
  {
   "cell_type": "code",
   "execution_count": 26,
   "outputs": [
    {
     "data": {
      "text/plain": "12793"
     },
     "metadata": {},
     "output_type": "execute_result",
     "execution_count": 26
    }
   ],
   "source": [
    "trut\n",
    "corpus.vocabulary.index(tp[3])\n",
    "\n"
   ],
   "metadata": {
    "collapsed": false,
    "pycharm": {
     "name": "#%%\n",
     "is_executing": false
    }
   }
  }
 ],
 "metadata": {
  "kernelspec": {
   "display_name": "Python 3",
   "language": "python",
   "name": "python3"
  },
  "language_info": {
   "codemirror_mode": {
    "name": "ipython",
    "version": 2
   },
   "file_extension": ".py",
   "mimetype": "text/x-python",
   "name": "python",
   "nbconvert_exporter": "python",
   "pygments_lexer": "ipython2",
   "version": "2.7.6"
  },
  "pycharm": {
   "stem_cell": {
    "cell_type": "raw",
    "source": [],
    "metadata": {
     "collapsed": false
    }
   }
  }
 },
 "nbformat": 4,
 "nbformat_minor": 0
}